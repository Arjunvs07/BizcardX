{
 "cells": [
  {
   "cell_type": "code",
   "execution_count": 1,
   "metadata": {},
   "outputs": [
    {
     "name": "stdout",
     "output_type": "stream",
     "text": [
      "Requirement already satisfied: easyocr in c:\\users\\admin\\new folder\\.venv\\lib\\site-packages (1.7.1)\n",
      "Requirement already satisfied: torch in c:\\users\\admin\\new folder\\.venv\\lib\\site-packages (from easyocr) (2.2.2)\n",
      "Requirement already satisfied: torchvision>=0.5 in c:\\users\\admin\\new folder\\.venv\\lib\\site-packages (from easyocr) (0.17.2)\n",
      "Requirement already satisfied: opencv-python-headless in c:\\users\\admin\\new folder\\.venv\\lib\\site-packages (from easyocr) (4.9.0.80)\n",
      "Requirement already satisfied: scipy in c:\\users\\admin\\new folder\\.venv\\lib\\site-packages (from easyocr) (1.12.0)\n",
      "Requirement already satisfied: numpy in c:\\users\\admin\\new folder\\.venv\\lib\\site-packages (from easyocr) (1.26.4)\n",
      "Requirement already satisfied: Pillow in c:\\users\\admin\\new folder\\.venv\\lib\\site-packages (from easyocr) (10.2.0)\n",
      "Requirement already satisfied: scikit-image in c:\\users\\admin\\new folder\\.venv\\lib\\site-packages (from easyocr) (0.22.0)\n",
      "Requirement already satisfied: python-bidi in c:\\users\\admin\\new folder\\.venv\\lib\\site-packages (from easyocr) (0.4.2)\n",
      "Requirement already satisfied: PyYAML in c:\\users\\admin\\new folder\\.venv\\lib\\site-packages (from easyocr) (6.0.1)\n",
      "Requirement already satisfied: Shapely in c:\\users\\admin\\new folder\\.venv\\lib\\site-packages (from easyocr) (2.0.3)\n",
      "Requirement already satisfied: pyclipper in c:\\users\\admin\\new folder\\.venv\\lib\\site-packages (from easyocr) (1.3.0.post5)\n",
      "Requirement already satisfied: ninja in c:\\users\\admin\\new folder\\.venv\\lib\\site-packages (from easyocr) (1.11.1.1)\n",
      "Requirement already satisfied: filelock in c:\\users\\admin\\new folder\\.venv\\lib\\site-packages (from torch->easyocr) (3.13.3)\n",
      "Requirement already satisfied: typing-extensions>=4.8.0 in c:\\users\\admin\\new folder\\.venv\\lib\\site-packages (from torch->easyocr) (4.10.0)\n",
      "Requirement already satisfied: sympy in c:\\users\\admin\\new folder\\.venv\\lib\\site-packages (from torch->easyocr) (1.12)\n",
      "Requirement already satisfied: networkx in c:\\users\\admin\\new folder\\.venv\\lib\\site-packages (from torch->easyocr) (3.2.1)\n",
      "Requirement already satisfied: jinja2 in c:\\users\\admin\\new folder\\.venv\\lib\\site-packages (from torch->easyocr) (3.1.3)\n",
      "Requirement already satisfied: fsspec in c:\\users\\admin\\new folder\\.venv\\lib\\site-packages (from torch->easyocr) (2024.3.1)\n",
      "Requirement already satisfied: six in c:\\users\\admin\\new folder\\.venv\\lib\\site-packages (from python-bidi->easyocr) (1.16.0)\n",
      "Requirement already satisfied: imageio>=2.27 in c:\\users\\admin\\new folder\\.venv\\lib\\site-packages (from scikit-image->easyocr) (2.34.0)\n",
      "Requirement already satisfied: tifffile>=2022.8.12 in c:\\users\\admin\\new folder\\.venv\\lib\\site-packages (from scikit-image->easyocr) (2024.2.12)\n",
      "Requirement already satisfied: packaging>=21 in c:\\users\\admin\\new folder\\.venv\\lib\\site-packages (from scikit-image->easyocr) (23.2)\n",
      "Requirement already satisfied: lazy_loader>=0.3 in c:\\users\\admin\\new folder\\.venv\\lib\\site-packages (from scikit-image->easyocr) (0.3)\n",
      "Requirement already satisfied: MarkupSafe>=2.0 in c:\\users\\admin\\new folder\\.venv\\lib\\site-packages (from jinja2->torch->easyocr) (2.1.5)\n",
      "Requirement already satisfied: mpmath>=0.19 in c:\\users\\admin\\new folder\\.venv\\lib\\site-packages (from sympy->torch->easyocr) (1.3.0)\n"
     ]
    }
   ],
   "source": [
    "! pip install easyocr"
   ]
  },
  {
   "cell_type": "code",
   "execution_count": 2,
   "metadata": {},
   "outputs": [
    {
     "name": "stdout",
     "output_type": "stream",
     "text": [
      "Requirement already satisfied: streamlit in c:\\users\\admin\\new folder\\.venv\\lib\\site-packages (1.32.2)\n",
      "Requirement already satisfied: altair<6,>=4.0 in c:\\users\\admin\\new folder\\.venv\\lib\\site-packages (from streamlit) (5.2.0)\n",
      "Requirement already satisfied: blinker<2,>=1.0.0 in c:\\users\\admin\\new folder\\.venv\\lib\\site-packages (from streamlit) (1.7.0)\n",
      "Requirement already satisfied: cachetools<6,>=4.0 in c:\\users\\admin\\new folder\\.venv\\lib\\site-packages (from streamlit) (5.3.3)\n",
      "Requirement already satisfied: click<9,>=7.0 in c:\\users\\admin\\new folder\\.venv\\lib\\site-packages (from streamlit) (8.1.7)\n",
      "Requirement already satisfied: numpy<2,>=1.19.3 in c:\\users\\admin\\new folder\\.venv\\lib\\site-packages (from streamlit) (1.26.4)\n",
      "Requirement already satisfied: packaging<24,>=16.8 in c:\\users\\admin\\new folder\\.venv\\lib\\site-packages (from streamlit) (23.2)\n",
      "Requirement already satisfied: pandas<3,>=1.3.0 in c:\\users\\admin\\new folder\\.venv\\lib\\site-packages (from streamlit) (2.2.1)\n",
      "Requirement already satisfied: pillow<11,>=7.1.0 in c:\\users\\admin\\new folder\\.venv\\lib\\site-packages (from streamlit) (10.2.0)\n",
      "Requirement already satisfied: protobuf<5,>=3.20 in c:\\users\\admin\\new folder\\.venv\\lib\\site-packages (from streamlit) (4.25.3)\n",
      "Requirement already satisfied: pyarrow>=7.0 in c:\\users\\admin\\new folder\\.venv\\lib\\site-packages (from streamlit) (15.0.0)\n",
      "Requirement already satisfied: requests<3,>=2.27 in c:\\users\\admin\\new folder\\.venv\\lib\\site-packages (from streamlit) (2.31.0)\n",
      "Requirement already satisfied: rich<14,>=10.14.0 in c:\\users\\admin\\new folder\\.venv\\lib\\site-packages (from streamlit) (13.7.1)\n",
      "Requirement already satisfied: tenacity<9,>=8.1.0 in c:\\users\\admin\\new folder\\.venv\\lib\\site-packages (from streamlit) (8.2.3)\n",
      "Requirement already satisfied: toml<2,>=0.10.1 in c:\\users\\admin\\new folder\\.venv\\lib\\site-packages (from streamlit) (0.10.2)\n",
      "Requirement already satisfied: typing-extensions<5,>=4.3.0 in c:\\users\\admin\\new folder\\.venv\\lib\\site-packages (from streamlit) (4.10.0)\n",
      "Requirement already satisfied: gitpython!=3.1.19,<4,>=3.0.7 in c:\\users\\admin\\new folder\\.venv\\lib\\site-packages (from streamlit) (3.1.42)\n",
      "Requirement already satisfied: pydeck<1,>=0.8.0b4 in c:\\users\\admin\\new folder\\.venv\\lib\\site-packages (from streamlit) (0.8.1b0)\n",
      "Requirement already satisfied: tornado<7,>=6.0.3 in c:\\users\\admin\\new folder\\.venv\\lib\\site-packages (from streamlit) (6.4)\n",
      "Requirement already satisfied: watchdog>=2.1.5 in c:\\users\\admin\\new folder\\.venv\\lib\\site-packages (from streamlit) (4.0.0)\n",
      "Requirement already satisfied: jinja2 in c:\\users\\admin\\new folder\\.venv\\lib\\site-packages (from altair<6,>=4.0->streamlit) (3.1.3)\n",
      "Requirement already satisfied: jsonschema>=3.0 in c:\\users\\admin\\new folder\\.venv\\lib\\site-packages (from altair<6,>=4.0->streamlit) (4.21.1)\n",
      "Requirement already satisfied: toolz in c:\\users\\admin\\new folder\\.venv\\lib\\site-packages (from altair<6,>=4.0->streamlit) (0.12.1)\n",
      "Requirement already satisfied: colorama in c:\\users\\admin\\new folder\\.venv\\lib\\site-packages (from click<9,>=7.0->streamlit) (0.4.6)\n",
      "Requirement already satisfied: gitdb<5,>=4.0.1 in c:\\users\\admin\\new folder\\.venv\\lib\\site-packages (from gitpython!=3.1.19,<4,>=3.0.7->streamlit) (4.0.11)\n",
      "Requirement already satisfied: python-dateutil>=2.8.2 in c:\\users\\admin\\new folder\\.venv\\lib\\site-packages (from pandas<3,>=1.3.0->streamlit) (2.9.0.post0)\n",
      "Requirement already satisfied: pytz>=2020.1 in c:\\users\\admin\\new folder\\.venv\\lib\\site-packages (from pandas<3,>=1.3.0->streamlit) (2024.1)\n",
      "Requirement already satisfied: tzdata>=2022.7 in c:\\users\\admin\\new folder\\.venv\\lib\\site-packages (from pandas<3,>=1.3.0->streamlit) (2024.1)\n",
      "Requirement already satisfied: charset-normalizer<4,>=2 in c:\\users\\admin\\new folder\\.venv\\lib\\site-packages (from requests<3,>=2.27->streamlit) (3.3.2)\n",
      "Requirement already satisfied: idna<4,>=2.5 in c:\\users\\admin\\new folder\\.venv\\lib\\site-packages (from requests<3,>=2.27->streamlit) (3.6)\n",
      "Requirement already satisfied: urllib3<3,>=1.21.1 in c:\\users\\admin\\new folder\\.venv\\lib\\site-packages (from requests<3,>=2.27->streamlit) (2.2.1)\n",
      "Requirement already satisfied: certifi>=2017.4.17 in c:\\users\\admin\\new folder\\.venv\\lib\\site-packages (from requests<3,>=2.27->streamlit) (2024.2.2)\n",
      "Requirement already satisfied: markdown-it-py>=2.2.0 in c:\\users\\admin\\new folder\\.venv\\lib\\site-packages (from rich<14,>=10.14.0->streamlit) (3.0.0)\n",
      "Requirement already satisfied: pygments<3.0.0,>=2.13.0 in c:\\users\\admin\\new folder\\.venv\\lib\\site-packages (from rich<14,>=10.14.0->streamlit) (2.17.2)\n",
      "Requirement already satisfied: smmap<6,>=3.0.1 in c:\\users\\admin\\new folder\\.venv\\lib\\site-packages (from gitdb<5,>=4.0.1->gitpython!=3.1.19,<4,>=3.0.7->streamlit) (5.0.1)\n",
      "Requirement already satisfied: MarkupSafe>=2.0 in c:\\users\\admin\\new folder\\.venv\\lib\\site-packages (from jinja2->altair<6,>=4.0->streamlit) (2.1.5)\n",
      "Requirement already satisfied: attrs>=22.2.0 in c:\\users\\admin\\new folder\\.venv\\lib\\site-packages (from jsonschema>=3.0->altair<6,>=4.0->streamlit) (23.2.0)\n",
      "Requirement already satisfied: jsonschema-specifications>=2023.03.6 in c:\\users\\admin\\new folder\\.venv\\lib\\site-packages (from jsonschema>=3.0->altair<6,>=4.0->streamlit) (2023.12.1)\n",
      "Requirement already satisfied: referencing>=0.28.4 in c:\\users\\admin\\new folder\\.venv\\lib\\site-packages (from jsonschema>=3.0->altair<6,>=4.0->streamlit) (0.33.0)\n",
      "Requirement already satisfied: rpds-py>=0.7.1 in c:\\users\\admin\\new folder\\.venv\\lib\\site-packages (from jsonschema>=3.0->altair<6,>=4.0->streamlit) (0.18.0)\n",
      "Requirement already satisfied: mdurl~=0.1 in c:\\users\\admin\\new folder\\.venv\\lib\\site-packages (from markdown-it-py>=2.2.0->rich<14,>=10.14.0->streamlit) (0.1.2)\n",
      "Requirement already satisfied: six>=1.5 in c:\\users\\admin\\new folder\\.venv\\lib\\site-packages (from python-dateutil>=2.8.2->pandas<3,>=1.3.0->streamlit) (1.16.0)\n"
     ]
    }
   ],
   "source": [
    "! pip install streamlit"
   ]
  },
  {
   "cell_type": "code",
   "execution_count": 3,
   "metadata": {},
   "outputs": [
    {
     "name": "stdout",
     "output_type": "stream",
     "text": [
      "Requirement already satisfied: streamlit_option_menu in c:\\users\\admin\\new folder\\.venv\\lib\\site-packages (0.3.12)\n",
      "Requirement already satisfied: streamlit>=0.63 in c:\\users\\admin\\new folder\\.venv\\lib\\site-packages (from streamlit_option_menu) (1.32.2)\n",
      "Requirement already satisfied: altair<6,>=4.0 in c:\\users\\admin\\new folder\\.venv\\lib\\site-packages (from streamlit>=0.63->streamlit_option_menu) (5.2.0)\n",
      "Requirement already satisfied: blinker<2,>=1.0.0 in c:\\users\\admin\\new folder\\.venv\\lib\\site-packages (from streamlit>=0.63->streamlit_option_menu) (1.7.0)\n",
      "Requirement already satisfied: cachetools<6,>=4.0 in c:\\users\\admin\\new folder\\.venv\\lib\\site-packages (from streamlit>=0.63->streamlit_option_menu) (5.3.3)\n",
      "Requirement already satisfied: click<9,>=7.0 in c:\\users\\admin\\new folder\\.venv\\lib\\site-packages (from streamlit>=0.63->streamlit_option_menu) (8.1.7)\n",
      "Requirement already satisfied: numpy<2,>=1.19.3 in c:\\users\\admin\\new folder\\.venv\\lib\\site-packages (from streamlit>=0.63->streamlit_option_menu) (1.26.4)\n",
      "Requirement already satisfied: packaging<24,>=16.8 in c:\\users\\admin\\new folder\\.venv\\lib\\site-packages (from streamlit>=0.63->streamlit_option_menu) (23.2)\n",
      "Requirement already satisfied: pandas<3,>=1.3.0 in c:\\users\\admin\\new folder\\.venv\\lib\\site-packages (from streamlit>=0.63->streamlit_option_menu) (2.2.1)\n",
      "Requirement already satisfied: pillow<11,>=7.1.0 in c:\\users\\admin\\new folder\\.venv\\lib\\site-packages (from streamlit>=0.63->streamlit_option_menu) (10.2.0)\n",
      "Requirement already satisfied: protobuf<5,>=3.20 in c:\\users\\admin\\new folder\\.venv\\lib\\site-packages (from streamlit>=0.63->streamlit_option_menu) (4.25.3)\n",
      "Requirement already satisfied: pyarrow>=7.0 in c:\\users\\admin\\new folder\\.venv\\lib\\site-packages (from streamlit>=0.63->streamlit_option_menu) (15.0.0)\n",
      "Requirement already satisfied: requests<3,>=2.27 in c:\\users\\admin\\new folder\\.venv\\lib\\site-packages (from streamlit>=0.63->streamlit_option_menu) (2.31.0)\n",
      "Requirement already satisfied: rich<14,>=10.14.0 in c:\\users\\admin\\new folder\\.venv\\lib\\site-packages (from streamlit>=0.63->streamlit_option_menu) (13.7.1)\n",
      "Requirement already satisfied: tenacity<9,>=8.1.0 in c:\\users\\admin\\new folder\\.venv\\lib\\site-packages (from streamlit>=0.63->streamlit_option_menu) (8.2.3)\n",
      "Requirement already satisfied: toml<2,>=0.10.1 in c:\\users\\admin\\new folder\\.venv\\lib\\site-packages (from streamlit>=0.63->streamlit_option_menu) (0.10.2)\n",
      "Requirement already satisfied: typing-extensions<5,>=4.3.0 in c:\\users\\admin\\new folder\\.venv\\lib\\site-packages (from streamlit>=0.63->streamlit_option_menu) (4.10.0)\n",
      "Requirement already satisfied: gitpython!=3.1.19,<4,>=3.0.7 in c:\\users\\admin\\new folder\\.venv\\lib\\site-packages (from streamlit>=0.63->streamlit_option_menu) (3.1.42)\n",
      "Requirement already satisfied: pydeck<1,>=0.8.0b4 in c:\\users\\admin\\new folder\\.venv\\lib\\site-packages (from streamlit>=0.63->streamlit_option_menu) (0.8.1b0)\n",
      "Requirement already satisfied: tornado<7,>=6.0.3 in c:\\users\\admin\\new folder\\.venv\\lib\\site-packages (from streamlit>=0.63->streamlit_option_menu) (6.4)\n",
      "Requirement already satisfied: watchdog>=2.1.5 in c:\\users\\admin\\new folder\\.venv\\lib\\site-packages (from streamlit>=0.63->streamlit_option_menu) (4.0.0)\n",
      "Requirement already satisfied: jinja2 in c:\\users\\admin\\new folder\\.venv\\lib\\site-packages (from altair<6,>=4.0->streamlit>=0.63->streamlit_option_menu) (3.1.3)\n",
      "Requirement already satisfied: jsonschema>=3.0 in c:\\users\\admin\\new folder\\.venv\\lib\\site-packages (from altair<6,>=4.0->streamlit>=0.63->streamlit_option_menu) (4.21.1)\n",
      "Requirement already satisfied: toolz in c:\\users\\admin\\new folder\\.venv\\lib\\site-packages (from altair<6,>=4.0->streamlit>=0.63->streamlit_option_menu) (0.12.1)\n",
      "Requirement already satisfied: colorama in c:\\users\\admin\\new folder\\.venv\\lib\\site-packages (from click<9,>=7.0->streamlit>=0.63->streamlit_option_menu) (0.4.6)\n",
      "Requirement already satisfied: gitdb<5,>=4.0.1 in c:\\users\\admin\\new folder\\.venv\\lib\\site-packages (from gitpython!=3.1.19,<4,>=3.0.7->streamlit>=0.63->streamlit_option_menu) (4.0.11)\n",
      "Requirement already satisfied: python-dateutil>=2.8.2 in c:\\users\\admin\\new folder\\.venv\\lib\\site-packages (from pandas<3,>=1.3.0->streamlit>=0.63->streamlit_option_menu) (2.9.0.post0)\n",
      "Requirement already satisfied: pytz>=2020.1 in c:\\users\\admin\\new folder\\.venv\\lib\\site-packages (from pandas<3,>=1.3.0->streamlit>=0.63->streamlit_option_menu) (2024.1)\n",
      "Requirement already satisfied: tzdata>=2022.7 in c:\\users\\admin\\new folder\\.venv\\lib\\site-packages (from pandas<3,>=1.3.0->streamlit>=0.63->streamlit_option_menu) (2024.1)\n",
      "Requirement already satisfied: charset-normalizer<4,>=2 in c:\\users\\admin\\new folder\\.venv\\lib\\site-packages (from requests<3,>=2.27->streamlit>=0.63->streamlit_option_menu) (3.3.2)\n",
      "Requirement already satisfied: idna<4,>=2.5 in c:\\users\\admin\\new folder\\.venv\\lib\\site-packages (from requests<3,>=2.27->streamlit>=0.63->streamlit_option_menu) (3.6)\n",
      "Requirement already satisfied: urllib3<3,>=1.21.1 in c:\\users\\admin\\new folder\\.venv\\lib\\site-packages (from requests<3,>=2.27->streamlit>=0.63->streamlit_option_menu) (2.2.1)\n",
      "Requirement already satisfied: certifi>=2017.4.17 in c:\\users\\admin\\new folder\\.venv\\lib\\site-packages (from requests<3,>=2.27->streamlit>=0.63->streamlit_option_menu) (2024.2.2)\n",
      "Requirement already satisfied: markdown-it-py>=2.2.0 in c:\\users\\admin\\new folder\\.venv\\lib\\site-packages (from rich<14,>=10.14.0->streamlit>=0.63->streamlit_option_menu) (3.0.0)\n",
      "Requirement already satisfied: pygments<3.0.0,>=2.13.0 in c:\\users\\admin\\new folder\\.venv\\lib\\site-packages (from rich<14,>=10.14.0->streamlit>=0.63->streamlit_option_menu) (2.17.2)\n",
      "Requirement already satisfied: smmap<6,>=3.0.1 in c:\\users\\admin\\new folder\\.venv\\lib\\site-packages (from gitdb<5,>=4.0.1->gitpython!=3.1.19,<4,>=3.0.7->streamlit>=0.63->streamlit_option_menu) (5.0.1)\n",
      "Requirement already satisfied: MarkupSafe>=2.0 in c:\\users\\admin\\new folder\\.venv\\lib\\site-packages (from jinja2->altair<6,>=4.0->streamlit>=0.63->streamlit_option_menu) (2.1.5)\n",
      "Requirement already satisfied: attrs>=22.2.0 in c:\\users\\admin\\new folder\\.venv\\lib\\site-packages (from jsonschema>=3.0->altair<6,>=4.0->streamlit>=0.63->streamlit_option_menu) (23.2.0)\n",
      "Requirement already satisfied: jsonschema-specifications>=2023.03.6 in c:\\users\\admin\\new folder\\.venv\\lib\\site-packages (from jsonschema>=3.0->altair<6,>=4.0->streamlit>=0.63->streamlit_option_menu) (2023.12.1)\n",
      "Requirement already satisfied: referencing>=0.28.4 in c:\\users\\admin\\new folder\\.venv\\lib\\site-packages (from jsonschema>=3.0->altair<6,>=4.0->streamlit>=0.63->streamlit_option_menu) (0.33.0)\n",
      "Requirement already satisfied: rpds-py>=0.7.1 in c:\\users\\admin\\new folder\\.venv\\lib\\site-packages (from jsonschema>=3.0->altair<6,>=4.0->streamlit>=0.63->streamlit_option_menu) (0.18.0)\n",
      "Requirement already satisfied: mdurl~=0.1 in c:\\users\\admin\\new folder\\.venv\\lib\\site-packages (from markdown-it-py>=2.2.0->rich<14,>=10.14.0->streamlit>=0.63->streamlit_option_menu) (0.1.2)\n",
      "Requirement already satisfied: six>=1.5 in c:\\users\\admin\\new folder\\.venv\\lib\\site-packages (from python-dateutil>=2.8.2->pandas<3,>=1.3.0->streamlit>=0.63->streamlit_option_menu) (1.16.0)\n"
     ]
    }
   ],
   "source": [
    "! pip install streamlit_option_menu"
   ]
  },
  {
   "cell_type": "code",
   "execution_count": 4,
   "metadata": {},
   "outputs": [],
   "source": [
    "import streamlit as st\n",
    "from streamlit_option_menu import option_menu\n",
    "import easyocr\n",
    "from PIL import Image\n",
    "import pandas as pd\n",
    "import numpy as np\n",
    "import re\n",
    "import io\n",
    "import psycopg2"
   ]
  },
  {
   "cell_type": "code",
   "execution_count": 5,
   "metadata": {},
   "outputs": [],
   "source": [
    "def image_to_text(path):\n",
    "    input_img = Image.open(path)\n",
    "\n",
    "    # converting image to array format\n",
    "    image_array = np.array(input_img)\n",
    "\n",
    "    reader = easyocr.Reader(['en'])\n",
    "    text = reader.readtext(image_array,detail = 0)\n",
    "    return text,input_img"
   ]
  },
  {
   "cell_type": "code",
   "execution_count": 9,
   "metadata": {},
   "outputs": [
    {
     "name": "stderr",
     "output_type": "stream",
     "text": [
      "Neither CUDA nor MPS are available - defaulting to CPU. Note: This module is much faster with a GPU.\n"
     ]
    }
   ],
   "source": [
    "text_img,input_img = image_to_text(\"C:/Users/ADMIN/Downloads/1.png\")"
   ]
  },
  {
   "cell_type": "code",
   "execution_count": null,
   "metadata": {},
   "outputs": [
    {
     "name": "stderr",
     "output_type": "stream",
     "text": [
      "Neither CUDA nor MPS are available - defaulting to CPU. Note: This module is much faster with a GPU.\n"
     ]
    }
   ],
   "source": [
    "text_img,input_img = image_to_text(\"C:/Users/ADMIN/Downloads/2.png\")"
   ]
  },
  {
   "cell_type": "code",
   "execution_count": null,
   "metadata": {},
   "outputs": [
    {
     "name": "stderr",
     "output_type": "stream",
     "text": [
      "Neither CUDA nor MPS are available - defaulting to CPU. Note: This module is much faster with a GPU.\n"
     ]
    }
   ],
   "source": [
    "text_img,input_img = image_to_text(\"C:/Users/ADMIN/Downloads/3.png\")"
   ]
  },
  {
   "cell_type": "code",
   "execution_count": null,
   "metadata": {},
   "outputs": [
    {
     "name": "stderr",
     "output_type": "stream",
     "text": [
      "Neither CUDA nor MPS are available - defaulting to CPU. Note: This module is much faster with a GPU.\n"
     ]
    }
   ],
   "source": [
    "text_img,input_img = image_to_text(\"C:/Users/ADMIN/Downloads/4.png\")"
   ]
  },
  {
   "cell_type": "code",
   "execution_count": null,
   "metadata": {},
   "outputs": [
    {
     "name": "stderr",
     "output_type": "stream",
     "text": [
      "Neither CUDA nor MPS are available - defaulting to CPU. Note: This module is much faster with a GPU.\n"
     ]
    }
   ],
   "source": [
    "text_img,input_img = image_to_text(\"C:/Users/ADMIN/Downloads/5.png\")"
   ]
  },
  {
   "cell_type": "code",
   "execution_count": 7,
   "metadata": {},
   "outputs": [],
   "source": [
    "def extracted_text(texts):\n",
    "    extrd_dict = {\"NAME\":[] , \"DESIGNATION\":[],\"COMPANY_NAME\": [],\"CONTACT\":[],\"EMAIL\":[],\"WEBSITE\":[],\"ADDRESS\":[], \"PINCODE\":[]}\n",
    "\n",
    "    extrd_dict[\"NAME\"].append(texts[0])\n",
    "    extrd_dict[\"DESIGNATION\"].append(texts[1])\n",
    "    \n",
    "    for i in range(2,len(texts)):\n",
    "        if texts[i].startswith(\"+\") or (texts[i].replace(\"-\",\"\").isdigit() and '-' in texts[i]):\n",
    "            extrd_dict[\"CONTACT\"].append(texts[i])\n",
    "        \n",
    "        elif \"@\" in texts[i] and \".com\" in texts[i]:\n",
    "            extrd_dict[\"EMAIL\"].append(texts[i])\n",
    "\n",
    "        elif \"WWW\" in texts[i] or \"www\" in texts[i] or \"Www\" in texts[i] or \"wWw\" in texts[i] or \"wwW\" in texts[i]:\n",
    "            small = texts[i].lower()\n",
    "            extrd_dict[\"WEBSITE\"].append(small)\n",
    "\n",
    "        elif 'Tamil Nadu' in texts[i] or 'TamilNadu' in texts[i] or texts[i].isdigit():\n",
    "            extrd_dict[\"PINCODE\"].append(texts[i])\n",
    "\n",
    "        elif re.match(r'^[A-Za-z]',texts[i]):\n",
    "            extrd_dict[\"COMPANY_NAME\"].append(texts[i])\n",
    "\n",
    "        else:\n",
    "            remove_colon = re.sub(r'[,;]','',texts[i])\n",
    "            extrd_dict[\"ADDRESS\"].append(remove_colon)\n",
    "\n",
    "    for key,value in extrd_dict.items():\n",
    "        if len(value)>0:\n",
    "            concatenate= \" \".join(value)\n",
    "            extrd_dict[key]=[concatenate]\n",
    "\n",
    "        else:\n",
    "            value = \"NA\"\n",
    "            extrd_dict[key] = [value]\n",
    "\n",
    "    \n",
    "    return extrd_dict"
   ]
  },
  {
   "cell_type": "code",
   "execution_count": 10,
   "metadata": {},
   "outputs": [],
   "source": [
    "text_data = extracted_text(text_img)"
   ]
  },
  {
   "cell_type": "code",
   "execution_count": 12,
   "metadata": {},
   "outputs": [
    {
     "data": {
      "text/html": [
       "<div>\n",
       "<style scoped>\n",
       "    .dataframe tbody tr th:only-of-type {\n",
       "        vertical-align: middle;\n",
       "    }\n",
       "\n",
       "    .dataframe tbody tr th {\n",
       "        vertical-align: top;\n",
       "    }\n",
       "\n",
       "    .dataframe thead th {\n",
       "        text-align: right;\n",
       "    }\n",
       "</style>\n",
       "<table border=\"1\" class=\"dataframe\">\n",
       "  <thead>\n",
       "    <tr style=\"text-align: right;\">\n",
       "      <th></th>\n",
       "      <th>NAME</th>\n",
       "      <th>DESIGNATION</th>\n",
       "      <th>COMPANY_NAME</th>\n",
       "      <th>CONTACT</th>\n",
       "      <th>EMAIL</th>\n",
       "      <th>WEBSITE</th>\n",
       "      <th>ADDRESS</th>\n",
       "      <th>PINCODE</th>\n",
       "    </tr>\n",
       "  </thead>\n",
       "  <tbody>\n",
       "    <tr>\n",
       "      <th>0</th>\n",
       "      <td>Selva</td>\n",
       "      <td>DATA MANAGER</td>\n",
       "      <td>selva digitals</td>\n",
       "      <td>+123-456-7890 +123-456-7891</td>\n",
       "      <td>hello@XYZ1.com</td>\n",
       "      <td>www xyzi.com</td>\n",
       "      <td>123 ABC St  Chennai</td>\n",
       "      <td>TamilNadu 600113</td>\n",
       "    </tr>\n",
       "  </tbody>\n",
       "</table>\n",
       "</div>"
      ],
      "text/plain": [
       "    NAME   DESIGNATION    COMPANY_NAME                      CONTACT  \\\n",
       "0  Selva  DATA MANAGER  selva digitals  +123-456-7890 +123-456-7891   \n",
       "\n",
       "            EMAIL       WEBSITE              ADDRESS           PINCODE  \n",
       "0  hello@XYZ1.com  www xyzi.com  123 ABC St  Chennai  TamilNadu 600113  "
      ]
     },
     "execution_count": 12,
     "metadata": {},
     "output_type": "execute_result"
    }
   ],
   "source": [
    "df = pd.DataFrame(text_data)\n",
    "df"
   ]
  },
  {
   "cell_type": "code",
   "execution_count": null,
   "metadata": {},
   "outputs": [
    {
     "data": {
      "text/plain": [
       "['SANTHOSH',\n",
       " 'Technical Manager',\n",
       " '123 ABC St , Tirupur, TamilNadu;',\n",
       " '641603',\n",
       " '+123-456-1234',\n",
       " 'hello@Sun.com',\n",
       " 'www.Suncom',\n",
       " 'Sun Electricals']"
      ]
     },
     "execution_count": 63,
     "metadata": {},
     "output_type": "execute_result"
    }
   ],
   "source": [
    "text_img"
   ]
  },
  {
   "cell_type": "code",
   "execution_count": null,
   "metadata": {},
   "outputs": [],
   "source": [
    "input_img"
   ]
  },
  {
   "cell_type": "code",
   "execution_count": 13,
   "metadata": {},
   "outputs": [
    {
     "data": {
      "text/html": [
       "<div>\n",
       "<style scoped>\n",
       "    .dataframe tbody tr th:only-of-type {\n",
       "        vertical-align: middle;\n",
       "    }\n",
       "\n",
       "    .dataframe tbody tr th {\n",
       "        vertical-align: top;\n",
       "    }\n",
       "\n",
       "    .dataframe thead th {\n",
       "        text-align: right;\n",
       "    }\n",
       "</style>\n",
       "<table border=\"1\" class=\"dataframe\">\n",
       "  <thead>\n",
       "    <tr style=\"text-align: right;\">\n",
       "      <th></th>\n",
       "      <th>NAME</th>\n",
       "      <th>DESIGNATION</th>\n",
       "      <th>COMPANY_NAME</th>\n",
       "      <th>CONTACT</th>\n",
       "      <th>EMAIL</th>\n",
       "      <th>WEBSITE</th>\n",
       "      <th>ADDRESS</th>\n",
       "      <th>PINCODE</th>\n",
       "      <th>IMAGE</th>\n",
       "    </tr>\n",
       "  </thead>\n",
       "  <tbody>\n",
       "    <tr>\n",
       "      <th>0</th>\n",
       "      <td>Selva</td>\n",
       "      <td>DATA MANAGER</td>\n",
       "      <td>selva digitals</td>\n",
       "      <td>+123-456-7890 +123-456-7891</td>\n",
       "      <td>hello@XYZ1.com</td>\n",
       "      <td>www xyzi.com</td>\n",
       "      <td>123 ABC St  Chennai</td>\n",
       "      <td>TamilNadu 600113</td>\n",
       "      <td>b'\\x89PNG\\r\\n\\x1a\\n\\x00\\x00\\x00\\rIHDR\\x00\\x00\\...</td>\n",
       "    </tr>\n",
       "  </tbody>\n",
       "</table>\n",
       "</div>"
      ],
      "text/plain": [
       "    NAME   DESIGNATION    COMPANY_NAME                      CONTACT  \\\n",
       "0  Selva  DATA MANAGER  selva digitals  +123-456-7890 +123-456-7891   \n",
       "\n",
       "            EMAIL       WEBSITE              ADDRESS           PINCODE  \\\n",
       "0  hello@XYZ1.com  www xyzi.com  123 ABC St  Chennai  TamilNadu 600113   \n",
       "\n",
       "                                               IMAGE  \n",
       "0  b'\\x89PNG\\r\\n\\x1a\\n\\x00\\x00\\x00\\rIHDR\\x00\\x00\\...  "
      ]
     },
     "execution_count": 13,
     "metadata": {},
     "output_type": "execute_result"
    }
   ],
   "source": [
    "# converting image to bytes\n",
    "Image_bytes = io.BytesIO()\n",
    "input_img.save(Image_bytes,format = \"PNG\")\n",
    "\n",
    "image_data = Image_bytes.getvalue()\n",
    "\n",
    "\n",
    "# Creating dictionary\n",
    "data = {\"IMAGE\":[image_data]}\n",
    "\n",
    "df_1 = pd.DataFrame(data)\n",
    "concat_df = pd.concat([df,df_1],axis = 1)\n",
    "concat_df"
   ]
  },
  {
   "cell_type": "code",
   "execution_count": 14,
   "metadata": {},
   "outputs": [],
   "source": [
    "mydb = psycopg2.connect(host = \"localhost\",\n",
    "                        user = \"postgres\",\n",
    "                        port= 5432,\n",
    "                        database = \"bizcardx\",\n",
    "                        password = \"arjunsoman123\"\n",
    "                           )\n",
    "cursor = mydb.cursor()\n",
    "\n",
    "# Table creation\n",
    "create_table_query = '''create table if not exists bizcard_details(name varchar(225),\n",
    "                                                                    designation varchar(225),\n",
    "                                                                    company_name varchar(225),\n",
    "                                                                    contact varchar(225),\n",
    "                                                                    email varchar(225),\n",
    "                                                                    website text,\n",
    "                                                                    address text,\n",
    "                                                                    pincode varchar(225),\n",
    "                                                                    image text)'''\n",
    "cursor.execute(create_table_query)\n",
    "mydb.commit()\n"
   ]
  },
  {
   "cell_type": "code",
   "execution_count": 15,
   "metadata": {},
   "outputs": [],
   "source": [
    "# Insert query\n",
    "insert_query = '''INSERT INTO bizcard_details(name,designation,company_name,contact,email,website,address,\n",
    "                                              pincode,image)\n",
    "                                              \n",
    "                                              values(%s,%s,%s,%s,%s,%s,%s,%s,%s)'''\n",
    "datas = concat_df.values.tolist()[0]\n",
    "cursor.execute(insert_query,datas)\n",
    "mydb.commit()"
   ]
  },
  {
   "cell_type": "code",
   "execution_count": 16,
   "metadata": {},
   "outputs": [
    {
     "data": {
      "text/html": [
       "<div>\n",
       "<style scoped>\n",
       "    .dataframe tbody tr th:only-of-type {\n",
       "        vertical-align: middle;\n",
       "    }\n",
       "\n",
       "    .dataframe tbody tr th {\n",
       "        vertical-align: top;\n",
       "    }\n",
       "\n",
       "    .dataframe thead th {\n",
       "        text-align: right;\n",
       "    }\n",
       "</style>\n",
       "<table border=\"1\" class=\"dataframe\">\n",
       "  <thead>\n",
       "    <tr style=\"text-align: right;\">\n",
       "      <th></th>\n",
       "      <th>NAME</th>\n",
       "      <th>DESIGNATION</th>\n",
       "      <th>COMPANY_NAME</th>\n",
       "      <th>CONTACT</th>\n",
       "      <th>EMAIL</th>\n",
       "      <th>WEBSITE</th>\n",
       "      <th>ADDRESS</th>\n",
       "      <th>PINCODE</th>\n",
       "      <th>IMAGE</th>\n",
       "    </tr>\n",
       "  </thead>\n",
       "  <tbody>\n",
       "    <tr>\n",
       "      <th>0</th>\n",
       "      <td>Selva</td>\n",
       "      <td>DATA MANAGER</td>\n",
       "      <td>selva digitals</td>\n",
       "      <td>+123-456-7890 +123-456-7891</td>\n",
       "      <td>hello@XYZ1.com</td>\n",
       "      <td>www xyzi.com</td>\n",
       "      <td>123 ABC St  Chennai</td>\n",
       "      <td>TamilNadu 600113</td>\n",
       "      <td>\\x89504e470d0a1a0a0000000d49484452000003ec0000...</td>\n",
       "    </tr>\n",
       "    <tr>\n",
       "      <th>1</th>\n",
       "      <td>Amit kumar</td>\n",
       "      <td>CEO &amp; FOUNDER</td>\n",
       "      <td>Erode, GLOBAL INSURANCE St ,</td>\n",
       "      <td>123-456-7569</td>\n",
       "      <td>hello@global.com</td>\n",
       "      <td>www.global.com</td>\n",
       "      <td>123 global TamilNadu</td>\n",
       "      <td>600115</td>\n",
       "      <td>\\x89504e470d0a1a0a0000000d49484452000003ec0000...</td>\n",
       "    </tr>\n",
       "    <tr>\n",
       "      <th>2</th>\n",
       "      <td>Selva</td>\n",
       "      <td>DATA MANAGER</td>\n",
       "      <td>selva digitals</td>\n",
       "      <td>+123-456-7890 +123-456-7891</td>\n",
       "      <td>hello@XYZ1.com</td>\n",
       "      <td>www xyzi.com</td>\n",
       "      <td>123 ABC St  Chennai</td>\n",
       "      <td>TamilNadu 600113</td>\n",
       "      <td>\\x89504e470d0a1a0a0000000d49484452000003ec0000...</td>\n",
       "    </tr>\n",
       "  </tbody>\n",
       "</table>\n",
       "</div>"
      ],
      "text/plain": [
       "         NAME    DESIGNATION                   COMPANY_NAME  \\\n",
       "0       Selva   DATA MANAGER                 selva digitals   \n",
       "1  Amit kumar  CEO & FOUNDER   Erode, GLOBAL INSURANCE St ,   \n",
       "2       Selva   DATA MANAGER                 selva digitals   \n",
       "\n",
       "                       CONTACT             EMAIL         WEBSITE  \\\n",
       "0  +123-456-7890 +123-456-7891    hello@XYZ1.com    www xyzi.com   \n",
       "1                 123-456-7569  hello@global.com  www.global.com   \n",
       "2  +123-456-7890 +123-456-7891    hello@XYZ1.com    www xyzi.com   \n",
       "\n",
       "                ADDRESS           PINCODE  \\\n",
       "0   123 ABC St  Chennai  TamilNadu 600113   \n",
       "1  123 global TamilNadu            600115   \n",
       "2   123 ABC St  Chennai  TamilNadu 600113   \n",
       "\n",
       "                                               IMAGE  \n",
       "0  \\x89504e470d0a1a0a0000000d49484452000003ec0000...  \n",
       "1  \\x89504e470d0a1a0a0000000d49484452000003ec0000...  \n",
       "2  \\x89504e470d0a1a0a0000000d49484452000003ec0000...  "
      ]
     },
     "execution_count": 16,
     "metadata": {},
     "output_type": "execute_result"
    }
   ],
   "source": [
    "# select query\n",
    "select_query = \"select * from bizcard_details\"\n",
    "cursor.execute(select_query)\n",
    "table = cursor.fetchall()\n",
    "mydb.commit()\n",
    "\n",
    "table_df = pd.DataFrame(table,columns= (\"NAME\", \"DESIGNATION\", \"COMPANY_NAME\", \"CONTACT\", \"EMAIL\", \"WEBSITE\",\n",
    "                                        \"ADDRESS\", \"PINCODE\", \"IMAGE\"))\n",
    "table_df"
   ]
  },
  {
   "cell_type": "code",
   "execution_count": 20,
   "metadata": {},
   "outputs": [
    {
     "data": {
      "text/plain": [
       "['Selva', 'Amit kumar', 'Selva']"
      ]
     },
     "execution_count": 20,
     "metadata": {},
     "output_type": "execute_result"
    }
   ],
   "source": [
    "# select query\n",
    "select_query = \"select NAME from bizcard_details\"\n",
    "cursor.execute(select_query)\n",
    "table1 = cursor.fetchall()\n",
    "mydb.commit()\n",
    "\n",
    "names = []\n",
    "for i in table1:\n",
    "    names.append(i[0])\n",
    "\n",
    "names"
   ]
  }
 ],
 "metadata": {
  "kernelspec": {
   "display_name": ".venv",
   "language": "python",
   "name": "python3"
  },
  "language_info": {
   "codemirror_mode": {
    "name": "ipython",
    "version": 3
   },
   "file_extension": ".py",
   "mimetype": "text/x-python",
   "name": "python",
   "nbconvert_exporter": "python",
   "pygments_lexer": "ipython3",
   "version": "3.12.2"
  }
 },
 "nbformat": 4,
 "nbformat_minor": 2
}
